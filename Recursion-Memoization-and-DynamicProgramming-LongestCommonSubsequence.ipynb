{
 "cells": [
  {
   "cell_type": "markdown",
   "metadata": {},
   "source": [
    "# Longest Common Subsequence"
   ]
  },
  {
   "cell_type": "code",
   "execution_count": 1,
   "metadata": {},
   "outputs": [],
   "source": [
    "project_name = 'longest-common-subsequence'"
   ]
  },
  {
   "cell_type": "code",
   "execution_count": 2,
   "metadata": {},
   "outputs": [],
   "source": [
    "!pip install jovian --upgrade --quiet"
   ]
  },
  {
   "cell_type": "code",
   "execution_count": 3,
   "metadata": {},
   "outputs": [],
   "source": [
    "import jovian"
   ]
  },
  {
   "cell_type": "code",
   "execution_count": 4,
   "metadata": {},
   "outputs": [
    {
     "data": {
      "application/javascript": [
       "window.require && require([\"base/js/namespace\"],function(Jupyter){Jupyter.notebook.save_checkpoint()})"
      ],
      "text/plain": [
       "<IPython.core.display.Javascript object>"
      ]
     },
     "metadata": {},
     "output_type": "display_data"
    },
    {
     "name": "stdout",
     "output_type": "stream",
     "text": [
      "[jovian] Attempting to save notebook..\u001b[0m\n",
      "[jovian] Updating notebook \"poduguvenu/longest-common-subsequence\" on https://jovian.ai\u001b[0m\n",
      "[jovian] Uploading notebook..\u001b[0m\n",
      "[jovian] Uploading additional files...\u001b[0m\n",
      "[jovian] Committed successfully! https://jovian.ai/poduguvenu/longest-common-subsequence\u001b[0m\n"
     ]
    },
    {
     "data": {
      "text/plain": [
       "'https://jovian.ai/poduguvenu/longest-common-subsequence'"
      ]
     },
     "execution_count": 4,
     "metadata": {},
     "output_type": "execute_result"
    }
   ],
   "source": [
    "jovian.commit(project=project_name)"
   ]
  },
  {
   "cell_type": "markdown",
   "metadata": {},
   "source": [
    "## Problem Statement\n",
    "\n",
    "\n",
    "> **QUESTION 1**: Write a function to find the length of the longest common subsequence between two sequences. E.g. Given the strings \"serendipitous\" and \"precipitation\", the longest common subsequence is \"reipito\" and its length is 7.\n",
    ">\n",
    "> A \"sequence\" is a group of items with a deterministic ordering. Lists, tuples and ranges are some common sequence types in Python.\n",
    ">\n",
    "> A \"subsequence\" is a sequence obtained by deleting zero or more elements from another sequence. For example, \"edpt\" is a subsequence of \"serendipitous\".\n",
    "<img src=\"https://i.imgur.com/ry4Y0wS.png\" width=\"420\">\n"
   ]
  },
  {
   "cell_type": "markdown",
   "metadata": {},
   "source": [
    "## The Method\n",
    "\n",
    "Here's the systematic strategy we'll apply for solving problems:\n",
    "\n",
    "1. State the problem clearly. Identify the input & output formats.\n",
    "2. Come up with some example inputs & outputs. Try to cover all edge cases.\n",
    "3. Come up with a correct solution for the problem. State it in plain English.\n",
    "4. Implement the solution and test it using example inputs. Fix bugs, if any.\n",
    "5. Analyze the algorithm's complexity and identify inefficiencies, if any.\n",
    "6. Apply the right technique to overcome the inefficiency. Repeat steps 3 to 6.\n",
    "\n",
    "This approach is explained in detail in [Lesson 1](https://jovian.ai/learn/data-structures-and-algorithms-in-python/lesson/lesson-1-binary-search-linked-lists-and-complexity) of the course. Let's apply this approach step-by-step."
   ]
  },
  {
   "cell_type": "markdown",
   "metadata": {},
   "source": [
    "## Solution\n",
    "\n",
    "\n",
    "### 1. State the problem clearly. Identify the input & output formats.\n",
    "\n",
    "While this problem is stated clearly enough, it's always useful to try and express in your own words, in a way that makes it most clear for you. \n",
    "\n",
    "\n",
    "**Problem**\n",
    "\n",
    "> We are given two sequences and we need to find the length of longest common subsequence between them\n",
    "\n",
    "<br/>\n",
    "\n",
    "\n",
    "**Input**\n",
    "\n",
    "1. **seq1**: A sequence e.g. `'serendipitous'`\n",
    "2. **seq2**: Another sequence e.g. `'precipitation'`\n",
    "\n",
    "\n",
    "**Output**\n",
    "\n",
    "1. **len_lcs**: Length of the longest common subsequence e.g. 7\n",
    "\n",
    "<br/>\n",
    "\n",
    "Based on the above, we can now create a signature of our function:"
   ]
  },
  {
   "cell_type": "code",
   "execution_count": 5,
   "metadata": {},
   "outputs": [],
   "source": [
    "def len_lcs(seq1, seq2):\n",
    "    pass"
   ]
  },
  {
   "cell_type": "markdown",
   "metadata": {},
   "source": [
    "### 2. Come up with some example inputs & outputs. Try to cover all edge cases.\n",
    "\n",
    "Our function should be able to handle any set of valid inputs we pass into it. Here's a list of some possible variations we might encounter:\n",
    "\n",
    "**Test cases**\n",
    "\n",
    "1. General case (string)\n",
    "2. General case (list)\n",
    "3. No common subsequence\n",
    "4. One is a subsequence of the other\n",
    "5. One sequence is empty\n",
    "6. Both sequences are empty\n",
    "7. Multiple subsequences with same length\n",
    "    1. “abcdef” and “badcfe”\n",
    "\n",
    "\n",
    "We'll express our test cases as dictionaries, to test them easily. Each dictionary will contain 2 keys: `input` (a dictionary itself containing one key for each argument to the function and `output` (the expected result from the function).  "
   ]
  },
  {
   "cell_type": "code",
   "execution_count": 6,
   "metadata": {},
   "outputs": [],
   "source": [
    "# General case(string)\n",
    "T0 = {\n",
    "    'input': {\n",
    "        'seq1': 'serendipitous',\n",
    "        'seq2': 'precipitation'\n",
    "    },\n",
    "    'output': 7\n",
    "}\n",
    "# General case(list)\n",
    "T1 = {\n",
    "    'input': {\n",
    "        'seq1': [1, 3, 5, 6, 7, 2, 5, 2, 3],\n",
    "        'seq2': [6, 2, 4, 7, 1, 5, 6, 2, 3]\n",
    "    },\n",
    "    'output': 5\n",
    "}\n",
    "# Another general case(string)\n",
    "T2 = {\n",
    "    'input': {\n",
    "        'seq1': 'longest',\n",
    "        'seq2': 'stone'\n",
    "    },\n",
    "    'output': 3\n",
    "}\n",
    "# No common subsequence\n",
    "T3 = {\n",
    "    'input': {\n",
    "        'seq1': 'asfasgasdgsad',\n",
    "        'seq2': 'kj;ljjlj;ljjl'\n",
    "    },\n",
    "    'output': 0\n",
    "}\n",
    "# One is a subsequence of the other\n",
    "T4 = {\n",
    "    'input': {\n",
    "        'seq1': 'dense',\n",
    "        'seq2': 'condensed'\n",
    "    },\n",
    "    'output': 5\n",
    "}\n",
    "# One sequence is empty\n",
    "T5 = {\n",
    "    'input': {\n",
    "        'seq1': '',\n",
    "        'seq2': 'opkpoiklklj'\n",
    "    },\n",
    "    'output': 0\n",
    "}\n",
    "# Both sequences are empty\n",
    "T6 = {\n",
    "    'input': {\n",
    "        'seq1': '',\n",
    "        'seq2': ''\n",
    "    },\n",
    "    'output': 0\n",
    "}\n",
    "# Multiple subsequences with same length\n",
    "T7 = {\n",
    "    'input': {\n",
    "        'seq1': 'abcdef',\n",
    "        'seq2': 'badcfe'\n",
    "    },\n",
    "    'output': 3\n",
    "}"
   ]
  },
  {
   "cell_type": "code",
   "execution_count": 7,
   "metadata": {},
   "outputs": [],
   "source": [
    "lcq_tests = [T0, T1, T2, T3, T4, T5, T6, T7]"
   ]
  },
  {
   "cell_type": "markdown",
   "metadata": {},
   "source": [
    "### 3. Come up with a correct solution for the problem. State it in plain English.\n",
    "\n",
    "Our first goal should always be to come up with a _correct_ solution to the problem, which may not necessarily be the most _efficient_ solution. Come with a correct solution and explain it in simple words below:\n",
    "\n",
    "## Recursive Solution\n",
    "\n",
    "\n",
    "1. Create two counters `idx1` and `idx2` starting at 0. Our recursive function will compute the LCS of `seq1[idx1:]` and `seq2[idx2:]`\n",
    "\n",
    "\n",
    "2. If `seq1[idx1]` and `seq2[idx2]` are equal, then this character belongs to the LCS of `seq1[idx1:]` and `seq2[idx2:]` (why?). Further the length of this LCS is one more than LCS of `seq1[idx1+1:]` and  `seq2[idx2+1:]`\n",
    "\n",
    "<img src=\"https://i.imgur.com/um7LDiX.png\" width=\"400\">\n",
    "\n",
    "3. If not, then the LCS of `seq1[idx1:]` and `seq2[idx2:]` is the longer one among the LCS of `seq1[idx1+1:], seq2[idx2:]` and the LCS of `seq1[idx1:]`, `seq2[idx2+1:]`\n",
    "\n",
    "<img src=\"https://i.imgur.com/DRanmOy.png\" width=\"360\">\n",
    "\n",
    "5. If either `seq1[idx1:]` or `seq2[idx2:]` is empty, then their LCS is empty.\n",
    "\n",
    "\n",
    "\n",
    "Here's what the tree of recursive calls looks like:\n",
    "\n",
    "\n",
    "![](https://i.imgur.com/JJrq3KH.png)"
   ]
  },
  {
   "cell_type": "markdown",
   "metadata": {},
   "source": [
    "###  4. Implement the solution and test it using example inputs. Fix bugs, if any."
   ]
  },
  {
   "cell_type": "code",
   "execution_count": 8,
   "metadata": {},
   "outputs": [],
   "source": [
    "def lcs_recursive(seq1, seq2, idx1=0, idx2=0):\n",
    "    if idx1 == len(seq1) or idx2 == len(seq2):\n",
    "        return 0\n",
    "    if seq1[idx1] == seq2[idx2]:\n",
    "        return 1 + lcs_recursive(seq1, seq2, idx1+1, idx2+1)\n",
    "    else:\n",
    "        option1 = lcs_recursive(seq1, seq2, idx1+1, idx2) \n",
    "        option2 = lcs_recursive(seq1, seq2, idx1, idx2+1)\n",
    "        return max(option1, option2)"
   ]
  },
  {
   "cell_type": "code",
   "execution_count": 9,
   "metadata": {},
   "outputs": [
    {
     "data": {
      "text/plain": [
       "{'input': {'seq1': 'serendipitous', 'seq2': 'precipitation'}, 'output': 7}"
      ]
     },
     "execution_count": 9,
     "metadata": {},
     "output_type": "execute_result"
    }
   ],
   "source": [
    "T0"
   ]
  },
  {
   "cell_type": "code",
   "execution_count": 10,
   "metadata": {},
   "outputs": [
    {
     "name": "stdout",
     "output_type": "stream",
     "text": [
      "CPU times: user 338 ms, sys: 0 ns, total: 338 ms\n",
      "Wall time: 337 ms\n"
     ]
    },
    {
     "data": {
      "text/plain": [
       "True"
      ]
     },
     "execution_count": 10,
     "metadata": {},
     "output_type": "execute_result"
    }
   ],
   "source": [
    "%%time\n",
    "# lcs_recursive(T0['input']['seq1'], T0['input']['seq2']) == T0['output']\n",
    "lcs_recursive(**T0['input']) == T0['output']"
   ]
  },
  {
   "cell_type": "markdown",
   "metadata": {},
   "source": [
    "We can test the function by passing the input to it directly or by using the `evaluate_test_case` function from `jovian`."
   ]
  },
  {
   "cell_type": "code",
   "execution_count": 11,
   "metadata": {},
   "outputs": [],
   "source": [
    "from jovian.pythondsa import evaluate_test_case"
   ]
  },
  {
   "cell_type": "code",
   "execution_count": 12,
   "metadata": {},
   "outputs": [
    {
     "name": "stdout",
     "output_type": "stream",
     "text": [
      "\n",
      "Input:\n",
      "{'seq1': 'serendipitous', 'seq2': 'precipitation'}\n",
      "\n",
      "Expected Output:\n",
      "7\n",
      "\n",
      "\n",
      "Actual Output:\n",
      "7\n",
      "\n",
      "Execution Time:\n",
      "370.582 ms\n",
      "\n",
      "Test Result:\n",
      "\u001b[92mPASSED\u001b[0m\n",
      "\n"
     ]
    },
    {
     "data": {
      "text/plain": [
       "(7, True, 370.582)"
      ]
     },
     "execution_count": 12,
     "metadata": {},
     "output_type": "execute_result"
    }
   ],
   "source": [
    "evaluate_test_case(lcs_recursive, T0)"
   ]
  },
  {
   "cell_type": "markdown",
   "metadata": {},
   "source": [
    "Evaluate your function against all the test cases together using the `evaluate_test_cases` (plural) function from `jovian`."
   ]
  },
  {
   "cell_type": "code",
   "execution_count": 13,
   "metadata": {},
   "outputs": [],
   "source": [
    "from jovian.pythondsa import evaluate_test_cases"
   ]
  },
  {
   "cell_type": "code",
   "execution_count": 14,
   "metadata": {
    "scrolled": true
   },
   "outputs": [
    {
     "name": "stdout",
     "output_type": "stream",
     "text": [
      "\n",
      "\u001b[1mTEST CASE #0\u001b[0m\n",
      "\n",
      "Input:\n",
      "{'seq1': 'serendipitous', 'seq2': 'precipitation'}\n",
      "\n",
      "Expected Output:\n",
      "7\n",
      "\n",
      "\n",
      "Actual Output:\n",
      "7\n",
      "\n",
      "Execution Time:\n",
      "322.676 ms\n",
      "\n",
      "Test Result:\n",
      "\u001b[92mPASSED\u001b[0m\n",
      "\n",
      "\n",
      "\u001b[1mTEST CASE #1\u001b[0m\n",
      "\n",
      "Input:\n",
      "{'seq1': [1, 3, 5, 6, 7, 2, 5, 2, 3], 'seq2': [6, 2, 4, 7, 1, 5, 6, 2, 3]}\n",
      "\n",
      "Expected Output:\n",
      "5\n",
      "\n",
      "\n",
      "Actual Output:\n",
      "5\n",
      "\n",
      "Execution Time:\n",
      "5.018 ms\n",
      "\n",
      "Test Result:\n",
      "\u001b[92mPASSED\u001b[0m\n",
      "\n",
      "\n",
      "\u001b[1mTEST CASE #2\u001b[0m\n",
      "\n",
      "Input:\n",
      "{'seq1': 'longest', 'seq2': 'stone'}\n",
      "\n",
      "Expected Output:\n",
      "3\n",
      "\n",
      "\n",
      "Actual Output:\n",
      "3\n",
      "\n",
      "Execution Time:\n",
      "0.204 ms\n",
      "\n",
      "Test Result:\n",
      "\u001b[92mPASSED\u001b[0m\n",
      "\n",
      "\n",
      "\u001b[1mTEST CASE #3\u001b[0m\n",
      "\n",
      "Input:\n",
      "{'seq1': 'asfasgasdgsad', 'seq2': 'kj;ljjlj;ljjl'}\n",
      "\n",
      "Expected Output:\n",
      "0\n",
      "\n",
      "\n",
      "Actual Output:\n",
      "0\n",
      "\n",
      "Execution Time:\n",
      "6606.877 ms\n",
      "\n",
      "Test Result:\n",
      "\u001b[92mPASSED\u001b[0m\n",
      "\n",
      "\n",
      "\u001b[1mTEST CASE #4\u001b[0m\n",
      "\n",
      "Input:\n",
      "{'seq1': 'dense', 'seq2': 'condensed'}\n",
      "\n",
      "Expected Output:\n",
      "5\n",
      "\n",
      "\n",
      "Actual Output:\n",
      "5\n",
      "\n",
      "Execution Time:\n",
      "0.23 ms\n",
      "\n",
      "Test Result:\n",
      "\u001b[92mPASSED\u001b[0m\n",
      "\n",
      "\n",
      "\u001b[1mTEST CASE #5\u001b[0m\n",
      "\n",
      "Input:\n",
      "{'seq1': '', 'seq2': 'opkpoiklklj'}\n",
      "\n",
      "Expected Output:\n",
      "0\n",
      "\n",
      "\n",
      "Actual Output:\n",
      "0\n",
      "\n",
      "Execution Time:\n",
      "0.002 ms\n",
      "\n",
      "Test Result:\n",
      "\u001b[92mPASSED\u001b[0m\n",
      "\n",
      "\n",
      "\u001b[1mTEST CASE #6\u001b[0m\n",
      "\n",
      "Input:\n",
      "{'seq1': '', 'seq2': ''}\n",
      "\n",
      "Expected Output:\n",
      "0\n",
      "\n",
      "\n",
      "Actual Output:\n",
      "0\n",
      "\n",
      "Execution Time:\n",
      "0.002 ms\n",
      "\n",
      "Test Result:\n",
      "\u001b[92mPASSED\u001b[0m\n",
      "\n",
      "\n",
      "\u001b[1mTEST CASE #7\u001b[0m\n",
      "\n",
      "Input:\n",
      "{'seq1': 'abcdef', 'seq2': 'badcfe'}\n",
      "\n",
      "Expected Output:\n",
      "3\n",
      "\n",
      "\n",
      "Actual Output:\n",
      "3\n",
      "\n",
      "Execution Time:\n",
      "0.062 ms\n",
      "\n",
      "Test Result:\n",
      "\u001b[92mPASSED\u001b[0m\n",
      "\n",
      "\n",
      "\u001b[1mSUMMARY\u001b[0m\n",
      "\n",
      "TOTAL: 8, \u001b[92mPASSED\u001b[0m: 8, \u001b[91mFAILED\u001b[0m: 0\n"
     ]
    },
    {
     "data": {
      "text/plain": [
       "[(7, True, 322.676),\n",
       " (5, True, 5.018),\n",
       " (3, True, 0.204),\n",
       " (0, True, 6606.877),\n",
       " (5, True, 0.23),\n",
       " (0, True, 0.002),\n",
       " (0, True, 0.002),\n",
       " (3, True, 0.062)]"
      ]
     },
     "execution_count": 14,
     "metadata": {},
     "output_type": "execute_result"
    }
   ],
   "source": [
    "evaluate_test_cases(lcs_recursive, lcq_tests)"
   ]
  },
  {
   "cell_type": "markdown",
   "metadata": {},
   "source": [
    "Verify that all the test cases were evaluated. We expect them all to fail, since we haven't implemented the function yet."
   ]
  },
  {
   "cell_type": "markdown",
   "metadata": {},
   "source": [
    "### 5. Analyze the algorithm's complexity and identify inefficiencies, if any.\n",
    "#### Complexity Analysis\n",
    "\n",
    "Worst case occurs when each time we have to try 2 subproblems i.e. when the sequences have no common elements.\n",
    "\n",
    "<img src=\"https://i.imgur.com/z5m36m8.png\" width=\"360\">\n",
    "\n",
    "Here's what the tree looks like in such a case (source - Techie Delight):\n",
    "\n",
    "<img src=\"https://i.imgur.com/n8ZgBYj.png\" width=\"500\">\n",
    "\n",
    "All the leaf nodes are `(0, 0)`. Can you count the number of leaf nodes?\n",
    "\n",
    "*HINT*: Count the number of unique paths from root to leaf. The length of each path is `m+n` and at each level there are 2 choices. \n",
    "\n",
    "Based on the above we can infer that the time complexity is $O(2^{m+n})$.\n"
   ]
  },
  {
   "cell_type": "markdown",
   "metadata": {},
   "source": [
    "### 6. Apply the right technique to overcome the inefficiency. Repeat steps 3 to 6.\n",
    "\n",
    "## Memoization"
   ]
  },
  {
   "cell_type": "code",
   "execution_count": 15,
   "metadata": {},
   "outputs": [],
   "source": [
    "def lcs_memo(seq1, seq2):\n",
    "    memo = {}\n",
    "    def recurse(idx1=0, idx2=0):\n",
    "        key = (idx1, idx2)\n",
    "        if key in memo:\n",
    "            return memo[key]\n",
    "        elif idx1 == len(seq1) or idx2 == len(seq2):\n",
    "            memo[key] = 0\n",
    "        elif seq1[idx1] == seq2[idx2]:\n",
    "            memo[key] = 1 + recurse(idx1+1, idx2+1)\n",
    "        else:\n",
    "            memo[key] = max(recurse(idx1+1, idx2), recurse(idx1, idx2+1))\n",
    "        return memo[key]\n",
    "    return recurse(0, 0)"
   ]
  },
  {
   "cell_type": "code",
   "execution_count": 16,
   "metadata": {},
   "outputs": [
    {
     "name": "stdout",
     "output_type": "stream",
     "text": [
      "\n",
      "\u001b[1mTEST CASE #0\u001b[0m\n",
      "\n",
      "Input:\n",
      "{'seq1': 'serendipitous', 'seq2': 'precipitation'}\n",
      "\n",
      "Expected Output:\n",
      "7\n",
      "\n",
      "\n",
      "Actual Output:\n",
      "7\n",
      "\n",
      "Execution Time:\n",
      "0.176 ms\n",
      "\n",
      "Test Result:\n",
      "\u001b[92mPASSED\u001b[0m\n",
      "\n",
      "\n",
      "\u001b[1mTEST CASE #1\u001b[0m\n",
      "\n",
      "Input:\n",
      "{'seq1': [1, 3, 5, 6, 7, 2, 5, 2, 3], 'seq2': [6, 2, 4, 7, 1, 5, 6, 2, 3]}\n",
      "\n",
      "Expected Output:\n",
      "5\n",
      "\n",
      "\n",
      "Actual Output:\n",
      "5\n",
      "\n",
      "Execution Time:\n",
      "0.065 ms\n",
      "\n",
      "Test Result:\n",
      "\u001b[92mPASSED\u001b[0m\n",
      "\n",
      "\n",
      "\u001b[1mTEST CASE #2\u001b[0m\n",
      "\n",
      "Input:\n",
      "{'seq1': 'longest', 'seq2': 'stone'}\n",
      "\n",
      "Expected Output:\n",
      "3\n",
      "\n",
      "\n",
      "Actual Output:\n",
      "3\n",
      "\n",
      "Execution Time:\n",
      "0.052 ms\n",
      "\n",
      "Test Result:\n",
      "\u001b[92mPASSED\u001b[0m\n",
      "\n",
      "\n",
      "\u001b[1mTEST CASE #3\u001b[0m\n",
      "\n",
      "Input:\n",
      "{'seq1': 'asfasgasdgsad', 'seq2': 'kj;ljjlj;ljjl'}\n",
      "\n",
      "Expected Output:\n",
      "0\n",
      "\n",
      "\n",
      "Actual Output:\n",
      "0\n",
      "\n",
      "Execution Time:\n",
      "0.163 ms\n",
      "\n",
      "Test Result:\n",
      "\u001b[92mPASSED\u001b[0m\n",
      "\n",
      "\n",
      "\u001b[1mTEST CASE #4\u001b[0m\n",
      "\n",
      "Input:\n",
      "{'seq1': 'dense', 'seq2': 'condensed'}\n",
      "\n",
      "Expected Output:\n",
      "5\n",
      "\n",
      "\n",
      "Actual Output:\n",
      "5\n",
      "\n",
      "Execution Time:\n",
      "0.031 ms\n",
      "\n",
      "Test Result:\n",
      "\u001b[92mPASSED\u001b[0m\n",
      "\n",
      "\n",
      "\u001b[1mTEST CASE #5\u001b[0m\n",
      "\n",
      "Input:\n",
      "{'seq1': '', 'seq2': 'opkpoiklklj'}\n",
      "\n",
      "Expected Output:\n",
      "0\n",
      "\n",
      "\n",
      "Actual Output:\n",
      "0\n",
      "\n",
      "Execution Time:\n",
      "0.002 ms\n",
      "\n",
      "Test Result:\n",
      "\u001b[92mPASSED\u001b[0m\n",
      "\n",
      "\n",
      "\u001b[1mTEST CASE #6\u001b[0m\n",
      "\n",
      "Input:\n",
      "{'seq1': '', 'seq2': ''}\n",
      "\n",
      "Expected Output:\n",
      "0\n",
      "\n",
      "\n",
      "Actual Output:\n",
      "0\n",
      "\n",
      "Execution Time:\n",
      "0.002 ms\n",
      "\n",
      "Test Result:\n",
      "\u001b[92mPASSED\u001b[0m\n",
      "\n",
      "\n",
      "\u001b[1mTEST CASE #7\u001b[0m\n",
      "\n",
      "Input:\n",
      "{'seq1': 'abcdef', 'seq2': 'badcfe'}\n",
      "\n",
      "Expected Output:\n",
      "3\n",
      "\n",
      "\n",
      "Actual Output:\n",
      "3\n",
      "\n",
      "Execution Time:\n",
      "0.028 ms\n",
      "\n",
      "Test Result:\n",
      "\u001b[92mPASSED\u001b[0m\n",
      "\n",
      "\n",
      "\u001b[1mSUMMARY\u001b[0m\n",
      "\n",
      "TOTAL: 8, \u001b[92mPASSED\u001b[0m: 8, \u001b[91mFAILED\u001b[0m: 0\n"
     ]
    },
    {
     "data": {
      "text/plain": [
       "[(7, True, 0.176),\n",
       " (5, True, 0.065),\n",
       " (3, True, 0.052),\n",
       " (0, True, 0.163),\n",
       " (5, True, 0.031),\n",
       " (0, True, 0.002),\n",
       " (0, True, 0.002),\n",
       " (3, True, 0.028)]"
      ]
     },
     "execution_count": 16,
     "metadata": {},
     "output_type": "execute_result"
    }
   ],
   "source": [
    "evaluate_test_cases(lcs_memo, lcq_tests)"
   ]
  },
  {
   "cell_type": "markdown",
   "metadata": {},
   "source": [
    "#### Complexity Analysis\n",
    "From above we can say that if key is already exists in the memo dictionary then the computation for that key can be avoided. The only no.of computations that we need to do is equal to the max no.of elements that can end up in memo. With this we can reduce the complexity from $O(2^{m+n})$ to $O(mxn)$"
   ]
  },
  {
   "cell_type": "markdown",
   "metadata": {},
   "source": [
    "## Dynamic Programming\n",
    "\n",
    "1. Create a table of size `(n1+1) * (n2+1)` initialized with 0s, where `n1` and `n2` are the lengths of the sequences. `table[i][j]` represents the longest common subsequence of `seq1[:i]` and `seq2[:j]`. Here's what the table looks like (source: Kevin Mavani, Medium).\n",
    "\n",
    "\n",
    "<img src=\"https://i.imgur.com/SAsEol6.png\">\n",
    "\n",
    "\n",
    "\n",
    "2. If `seq1[i]` and `seq2[j]` are equal, then `table[i+1][j+1] = 1 + table[i][j]` \n",
    "\n",
    "3. If `seq1[i]` and `seq2[j]` are equal, then `table[i+1][j+1] = max(table[i][j+1], table[i+1][j])`\n",
    "\n",
    "\n",
    "The complexity of the dynamic programming is the size of the table.\n",
    "\n",
    "Verify that the complexity of the dynamic programming approach is $O(N1 * N2)$ which is same as Memoization. Dynamic programming approach is faster compared to Memoization."
   ]
  },
  {
   "cell_type": "code",
   "execution_count": 17,
   "metadata": {},
   "outputs": [
    {
     "data": {
      "text/plain": [
       "[[0, 0, 0, 0, 0, 0, 0],\n",
       " [0, 0, 0, 0, 0, 0, 0],\n",
       " [0, 0, 0, 0, 0, 0, 0],\n",
       " [0, 0, 0, 0, 0, 0, 0],\n",
       " [0, 0, 0, 0, 0, 0, 0]]"
      ]
     },
     "execution_count": 17,
     "metadata": {},
     "output_type": "execute_result"
    }
   ],
   "source": [
    "n1, n2 = 5, 7\n",
    "[[0 for x in range(n2)] for x in range(n1)]"
   ]
  },
  {
   "cell_type": "code",
   "execution_count": 18,
   "metadata": {},
   "outputs": [],
   "source": [
    "def lcs_dyn_prog(seq1, seq2):\n",
    "    n1, n2 = len(seq1), len(seq2)\n",
    "    table = [[0 for x in range(n2+1)] for x in range(n1+1)]\n",
    "    for i in range(n1):\n",
    "        for j in range(n2):\n",
    "            if seq1[i] == seq2[j]:\n",
    "                table[i+1][j+1] = 1 + table[i][j]\n",
    "            else:\n",
    "                table[i+1][j+1] = max(table[i][j+1], table[i+1][j])\n",
    "    return table[-1][-1]    "
   ]
  },
  {
   "cell_type": "code",
   "execution_count": 19,
   "metadata": {},
   "outputs": [
    {
     "name": "stdout",
     "output_type": "stream",
     "text": [
      "\n",
      "\u001b[1mTEST CASE #0\u001b[0m\n",
      "\n",
      "Input:\n",
      "{'seq1': 'serendipitous', 'seq2': 'precipitation'}\n",
      "\n",
      "Expected Output:\n",
      "7\n",
      "\n",
      "\n",
      "Actual Output:\n",
      "7\n",
      "\n",
      "Execution Time:\n",
      "0.156 ms\n",
      "\n",
      "Test Result:\n",
      "\u001b[92mPASSED\u001b[0m\n",
      "\n",
      "\n",
      "\u001b[1mTEST CASE #1\u001b[0m\n",
      "\n",
      "Input:\n",
      "{'seq1': [1, 3, 5, 6, 7, 2, 5, 2, 3], 'seq2': [6, 2, 4, 7, 1, 5, 6, 2, 3]}\n",
      "\n",
      "Expected Output:\n",
      "5\n",
      "\n",
      "\n",
      "Actual Output:\n",
      "5\n",
      "\n",
      "Execution Time:\n",
      "0.09 ms\n",
      "\n",
      "Test Result:\n",
      "\u001b[92mPASSED\u001b[0m\n",
      "\n",
      "\n",
      "\u001b[1mTEST CASE #2\u001b[0m\n",
      "\n",
      "Input:\n",
      "{'seq1': 'longest', 'seq2': 'stone'}\n",
      "\n",
      "Expected Output:\n",
      "3\n",
      "\n",
      "\n",
      "Actual Output:\n",
      "3\n",
      "\n",
      "Execution Time:\n",
      "0.044 ms\n",
      "\n",
      "Test Result:\n",
      "\u001b[92mPASSED\u001b[0m\n",
      "\n",
      "\n",
      "\u001b[1mTEST CASE #3\u001b[0m\n",
      "\n",
      "Input:\n",
      "{'seq1': 'asfasgasdgsad', 'seq2': 'kj;ljjlj;ljjl'}\n",
      "\n",
      "Expected Output:\n",
      "0\n",
      "\n",
      "\n",
      "Actual Output:\n",
      "0\n",
      "\n",
      "Execution Time:\n",
      "0.125 ms\n",
      "\n",
      "Test Result:\n",
      "\u001b[92mPASSED\u001b[0m\n",
      "\n",
      "\n",
      "\u001b[1mTEST CASE #4\u001b[0m\n",
      "\n",
      "Input:\n",
      "{'seq1': 'dense', 'seq2': 'condensed'}\n",
      "\n",
      "Expected Output:\n",
      "5\n",
      "\n",
      "\n",
      "Actual Output:\n",
      "5\n",
      "\n",
      "Execution Time:\n",
      "0.054 ms\n",
      "\n",
      "Test Result:\n",
      "\u001b[92mPASSED\u001b[0m\n",
      "\n",
      "\n",
      "\u001b[1mTEST CASE #5\u001b[0m\n",
      "\n",
      "Input:\n",
      "{'seq1': '', 'seq2': 'opkpoiklklj'}\n",
      "\n",
      "Expected Output:\n",
      "0\n",
      "\n",
      "\n",
      "Actual Output:\n",
      "0\n",
      "\n",
      "Execution Time:\n",
      "0.006 ms\n",
      "\n",
      "Test Result:\n",
      "\u001b[92mPASSED\u001b[0m\n",
      "\n",
      "\n",
      "\u001b[1mTEST CASE #6\u001b[0m\n",
      "\n",
      "Input:\n",
      "{'seq1': '', 'seq2': ''}\n",
      "\n",
      "Expected Output:\n",
      "0\n",
      "\n",
      "\n",
      "Actual Output:\n",
      "0\n",
      "\n",
      "Execution Time:\n",
      "0.009 ms\n",
      "\n",
      "Test Result:\n",
      "\u001b[92mPASSED\u001b[0m\n",
      "\n",
      "\n",
      "\u001b[1mTEST CASE #7\u001b[0m\n",
      "\n",
      "Input:\n",
      "{'seq1': 'abcdef', 'seq2': 'badcfe'}\n",
      "\n",
      "Expected Output:\n",
      "3\n",
      "\n",
      "\n",
      "Actual Output:\n",
      "3\n",
      "\n",
      "Execution Time:\n",
      "0.043 ms\n",
      "\n",
      "Test Result:\n",
      "\u001b[92mPASSED\u001b[0m\n",
      "\n",
      "\n",
      "\u001b[1mSUMMARY\u001b[0m\n",
      "\n",
      "TOTAL: 8, \u001b[92mPASSED\u001b[0m: 8, \u001b[91mFAILED\u001b[0m: 0\n"
     ]
    },
    {
     "data": {
      "text/plain": [
       "[(7, True, 0.156),\n",
       " (5, True, 0.09),\n",
       " (3, True, 0.044),\n",
       " (0, True, 0.125),\n",
       " (5, True, 0.054),\n",
       " (0, True, 0.006),\n",
       " (0, True, 0.009),\n",
       " (3, True, 0.043)]"
      ]
     },
     "execution_count": 19,
     "metadata": {},
     "output_type": "execute_result"
    }
   ],
   "source": [
    "evaluate_test_cases(lcs_dyn_prog, lcq_tests)"
   ]
  },
  {
   "cell_type": "code",
   "execution_count": 20,
   "metadata": {},
   "outputs": [
    {
     "data": {
      "application/javascript": [
       "window.require && require([\"base/js/namespace\"],function(Jupyter){Jupyter.notebook.save_checkpoint()})"
      ],
      "text/plain": [
       "<IPython.core.display.Javascript object>"
      ]
     },
     "metadata": {},
     "output_type": "display_data"
    },
    {
     "name": "stdout",
     "output_type": "stream",
     "text": [
      "[jovian] Attempting to save notebook..\u001b[0m\n",
      "[jovian] Updating notebook \"poduguvenu/longest-common-subsequence\" on https://jovian.ai\u001b[0m\n",
      "[jovian] Uploading notebook..\u001b[0m\n",
      "[jovian] Uploading additional files...\u001b[0m\n",
      "[jovian] Committed successfully! https://jovian.ai/poduguvenu/longest-common-subsequence\u001b[0m\n"
     ]
    },
    {
     "data": {
      "text/plain": [
       "'https://jovian.ai/poduguvenu/longest-common-subsequence'"
      ]
     },
     "execution_count": 20,
     "metadata": {},
     "output_type": "execute_result"
    }
   ],
   "source": [
    "jovian.commit()"
   ]
  },
  {
   "cell_type": "code",
   "execution_count": null,
   "metadata": {},
   "outputs": [],
   "source": []
  }
 ],
 "metadata": {
  "kernelspec": {
   "display_name": "Python 3",
   "language": "python",
   "name": "python3"
  },
  "language_info": {
   "codemirror_mode": {
    "name": "ipython",
    "version": 3
   },
   "file_extension": ".py",
   "mimetype": "text/x-python",
   "name": "python",
   "nbconvert_exporter": "python",
   "pygments_lexer": "ipython3",
   "version": "3.8.6"
  }
 },
 "nbformat": 4,
 "nbformat_minor": 5
}
